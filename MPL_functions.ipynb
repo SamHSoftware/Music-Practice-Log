{
 "cells": [
  {
   "cell_type": "code",
   "execution_count": 43,
   "metadata": {},
   "outputs": [],
   "source": [
    "from tkinter import *\n",
    "\n",
    "## FUCTION PURPOSE: Allows the user to record the quantity of music practice that has been achieved for the day (in hours). \n",
    "# Function inputs arg 1: ??? \n",
    "# Function output 1: ???\n",
    "\n",
    "# Create a GUI to log the duration of today's music practice.  \n",
    "def log_progress():\n",
    "    \n",
    "    # Make a class object for the GUI.\n",
    "    class GUI(): \n",
    "        def __init__(self, prompt):\n",
    "            self.prompt = prompt \n",
    "            self.response = \"\"\n",
    "\n",
    "            def OK():\n",
    "                self.response = entry.get()\n",
    "                root.destroy()\n",
    "\n",
    "            root = Tk()\n",
    "            lbl = Label(root, text=self.prompt)\n",
    "            lbl.pack()\n",
    "            entry = Entry(root)\n",
    "            entry.pack()\n",
    "\n",
    "            entry.focus_set()\n",
    "\n",
    "            b = Button(root, text=\"OK\", width=10, command=OK)\n",
    "            b.pack()\n",
    "            mainloop()\n",
    "\n",
    "    # Create an instance object for the GUI. \n",
    "    instance_GUI = GUI(\"Please enter the number of hours practiced.\")\n",
    "    hours_practiced = instance_GUI.response\n",
    "    \n",
    "    # If there was an accidental text entry, notify the user, and ask for a numerical input. \n",
    "    while str.isdecimal(hours_practiced) is False: \n",
    "        instance_GUI = GUI(\"Re-enter answer using only numbers 0-9 and decimal points.\")\n",
    "        hours_practiced = instance_GUI.response\n",
    "\n",
    "\n",
    "# If this is the first input, make a new .csv file to store the information. Otherwise, add the information to the current practice file. \n"
   ]
  },
  {
   "cell_type": "code",
   "execution_count": null,
   "metadata": {},
   "outputs": [],
   "source": [
    "## FUCTION PURPOSE: A function to update the local graph, and push it to GitHub. \n",
    "# Function input arg 1: \n",
    "# Function output 1: \n",
    "\n",
    "# Create the graph. \n",
    "\n",
    "# Push the graph to GitHub. \n"
   ]
  },
  {
   "cell_type": "code",
   "execution_count": null,
   "metadata": {},
   "outputs": [],
   "source": [
    "## FUCTION PURPOSE: A function to WhatsApp message the user to remind them to practice their instrument. \n",
    "# Function input arg 1: \n",
    "# Function output 1: \n",
    "\n",
    "# Determine whether the user has practiced their instrument recently. \n",
    "\n",
    "# Create a list of potential WhatsApp messages.\n",
    "\n",
    "# Send one of the messages to the user. "
   ]
  }
 ],
 "metadata": {
  "kernelspec": {
   "display_name": "Python 3",
   "language": "python",
   "name": "python3"
  },
  "language_info": {
   "codemirror_mode": {
    "name": "ipython",
    "version": 3
   },
   "file_extension": ".py",
   "mimetype": "text/x-python",
   "name": "python",
   "nbconvert_exporter": "python",
   "pygments_lexer": "ipython3",
   "version": "3.7.9"
  }
 },
 "nbformat": 4,
 "nbformat_minor": 4
}
