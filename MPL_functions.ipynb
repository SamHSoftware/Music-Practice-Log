{
 "cells": [
  {
   "cell_type": "code",
   "execution_count": null,
   "metadata": {},
   "outputs": [],
   "source": [
    "## FUCTION PURPOSE: A function to allow the user to record the quantity of music practice that has been achieved for the day (in hours). \n",
    "# Function inputs arg 1: ??? \n",
    "# Function output 1: ???\n",
    "\n",
    "# Allow the user to log the duration of today's music practice.  \n",
    "\n",
    "# If this is the first input, make a new .csv file to store the information. Otherwise, add the information to the current practice file. \n"
   ]
  },
  {
   "cell_type": "code",
   "execution_count": null,
   "metadata": {},
   "outputs": [],
   "source": [
    "## FUCTION PURPOSE: A function to update the local graph, and push it to GitHub. \n",
    "# Function input arg 1: \n",
    "# Function output 1: \n",
    "\n",
    "# Create the graph. \n",
    "\n",
    "# Push the graph to GitHub. \n"
   ]
  },
  {
   "cell_type": "code",
   "execution_count": null,
   "metadata": {},
   "outputs": [],
   "source": [
    "## FUCTION PURPOSE: A function to WhatsApp message the user to remind them to practice their instrument. \n",
    "# Function input arg 1: \n",
    "# Function output 1: \n",
    "\n",
    "# Determine whether the user has practiced their instrument recently. \n",
    "\n",
    "# Create a list of potential WhatsApp messages.\n",
    "\n",
    "# Send one of the messages to the user. "
   ]
  }
 ],
 "metadata": {
  "kernelspec": {
   "display_name": "Python 3",
   "language": "python",
   "name": "python3"
  },
  "language_info": {
   "codemirror_mode": {
    "name": "ipython",
    "version": 3
   },
   "file_extension": ".py",
   "mimetype": "text/x-python",
   "name": "python",
   "nbconvert_exporter": "python",
   "pygments_lexer": "ipython3",
   "version": "3.7.9"
  }
 },
 "nbformat": 4,
 "nbformat_minor": 4
}
